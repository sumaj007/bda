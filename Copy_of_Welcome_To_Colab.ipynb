{
  "cells": [
    {
      "cell_type": "code",
      "source": [
        "class Counter:\n",
        "    count = 0  # Class variable shared by all instances\n",
        "\n",
        "    def __init__(self):\n",
        "        self._count = 0  # Instance variable unique to each object\n",
        "\n",
        "    def increment(self):\n",
        "        Counter.count += 1       # Modifies class variable\n",
        "        self._count += 1         # Modifies instance variable\n",
        "\n",
        "    def get_counts(self):\n",
        "        return (Counter.count, self._count)  # Returns a tuple\n",
        "\n",
        "\n",
        "# Creating two instances\n",
        "a = Counter()\n",
        "b = Counter()\n",
        "\n",
        "# Increment operations\n",
        "a.increment()\n",
        "a.increment()\n",
        "b.increment()\n",
        "\n",
        "# Output\n",
        "print(\"a.get_counts():\", a.get_counts())\n",
        "print(\"b.get_counts():\", b.get_counts())\n"
      ],
      "metadata": {
        "colab": {
          "base_uri": "https://localhost:8080/"
        },
        "id": "Y97eVTwmL3DO",
        "outputId": "ee153499-2263-47f7-d586-ebc915ed80d1"
      },
      "execution_count": 9,
      "outputs": [
        {
          "output_type": "stream",
          "name": "stdout",
          "text": [
            "a.get_counts(): (3, 2)\n",
            "b.get_counts(): (3, 1)\n"
          ]
        }
      ]
    },
    {
      "cell_type": "markdown",
      "source": [
        "**Differences between Counter.count and self._count:**\n",
        "\n",
        "Counter.count is a class variable shared by all instances of the\n",
        "class.\n",
        "\n",
        "self._count is an instance variable unique to each object (a, b, etc.).\n",
        "\n",
        "**Output of a.get_counts() and b.get_counts()**\n",
        "\n",
        "a.increment() called twice → Counter.count becomes 2, a._count becomes 2\n",
        "\n",
        "b.increment() called once → Counter.count becomes 3, b._count becomes 1\n",
        "\n",
        "**How increment() affects both variables**\n",
        "\n",
        "It increases Counter.count by 1 (shared by all instances)\n",
        "\n",
        "It increases self._count by 1 (only for the instance calling the method)"
      ],
      "metadata": {
        "id": "naQVPRxKM0G7"
      }
    },
    {
      "cell_type": "code",
      "source": [
        "def sum_all(*args):\n",
        "    return sum(args)\n",
        "\n",
        "print(\"Sum of 1, 2, 3 is:\", sum_all(1, 2, 3))\n",
        "print(\"Sum of 4, 5, 6, 7 is:\", sum_all(4, 5, 6, 7))"
      ],
      "metadata": {
        "colab": {
          "base_uri": "https://localhost:8080/"
        },
        "id": "sqKZkBYaMQIt",
        "outputId": "532c7cc3-4bb0-480a-dc69-96da9aaa9d23"
      },
      "execution_count": 10,
      "outputs": [
        {
          "output_type": "stream",
          "name": "stdout",
          "text": [
            "Sum of 1, 2, 3 is: 6\n",
            "Sum of 4, 5, 6, 7 is: 22\n"
          ]
        }
      ]
    },
    {
      "cell_type": "code",
      "source": [
        "def first_word(words):\n",
        "    words.sort()\n",
        "    return words[0]\n",
        "\n",
        "# Example usage:\n",
        "students = ['Mary', 'Zelda', 'Jimmy', 'Jack', 'Bartholomew', 'Gertrude']\n",
        "print(first_word(students))\n"
      ],
      "metadata": {
        "colab": {
          "base_uri": "https://localhost:8080/"
        },
        "id": "vsCI9SYiMa9C",
        "outputId": "88aca60b-002c-4ca0-d78b-19f3387c4993"
      },
      "execution_count": 11,
      "outputs": [
        {
          "output_type": "stream",
          "name": "stdout",
          "text": [
            "Bartholomew\n"
          ]
        }
      ]
    },
    {
      "cell_type": "code",
      "source": [
        "class Employee:\n",
        "    employee_count = 0\n",
        "    salaries = []\n",
        "\n",
        "    def __init__(self, name, family, salary, department):\n",
        "        self.name = name\n",
        "        self.family = family\n",
        "        self.salary = salary\n",
        "        self.department = department\n",
        "        Employee.employee_count += 1\n",
        "        Employee.salaries.append(salary)\n",
        "\n",
        "    def average_salary(self):\n",
        "        return sum(Employee.salaries) / Employee.employee_count\n",
        "\n",
        "\n",
        "class FulltimeEmployee(Employee):\n",
        "    def __init__(self, name, family, salary, department):\n",
        "        super().__init__(name, family, salary, department)\n",
        "\n",
        "\n",
        "# Example Usage:\n",
        "e1 = Employee(\"Alice\", \"Smith\", 50000, \"HR\")\n",
        "e2 = FulltimeEmployee(\"Bob\", \"Johnson\", 60000, \"Engineering\")\n",
        "e3 = FulltimeEmployee(\"Carol\", \"White\", 70000, \"Finance\")\n",
        "\n",
        "print(\"Average Salary:\", e1.average_salary())\n",
        "print(\"Total Employees:\", Employee.employee_count)\n"
      ],
      "metadata": {
        "colab": {
          "base_uri": "https://localhost:8080/"
        },
        "id": "8uaMSNi1MnI9",
        "outputId": "2dd0bb63-b958-43a8-c3a8-dc576e8004c3"
      },
      "execution_count": 12,
      "outputs": [
        {
          "output_type": "stream",
          "name": "stdout",
          "text": [
            "Average Salary: 60000.0\n",
            "Total Employees: 3\n"
          ]
        }
      ]
    },
    {
      "cell_type": "markdown",
      "source": [
        "The code tracks:\n",
        "Tracks total employees and salaries\n",
        "\n",
        "Calculates average salary\n",
        "\n",
        "Demonstrates inheritance\n",
        "\n"
      ],
      "metadata": {
        "id": "sEw2sBt3Nn93"
      }
    }
  ],
  "metadata": {
    "colab": {
      "toc_visible": true,
      "provenance": []
    },
    "kernelspec": {
      "display_name": "Python 3",
      "name": "python3"
    }
  },
  "nbformat": 4,
  "nbformat_minor": 0
}