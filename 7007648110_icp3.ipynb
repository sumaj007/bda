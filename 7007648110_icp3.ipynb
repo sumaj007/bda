{
  "nbformat": 4,
  "nbformat_minor": 0,
  "metadata": {
    "colab": {
      "provenance": []
    },
    "kernelspec": {
      "name": "python3",
      "display_name": "Python 3"
    },
    "language_info": {
      "name": "python"
    }
  },
  "cells": [
    {
      "cell_type": "code",
      "execution_count": 4,
      "metadata": {
        "colab": {
          "base_uri": "https://localhost:8080/"
        },
        "id": "HHg6QEQn2_F5",
        "outputId": "72a4e8b2-05c4-4cf7-85bb-6445a8628df0"
      },
      "outputs": [
        {
          "output_type": "stream",
          "name": "stdout",
          "text": [
            "Original Array:\n",
            " [13 16  1  4  4  8 10 20 19  5  7 13  2  7  8]\n",
            "Reshaped Array (3x5):\n",
            " [[13 16  1  4  4]\n",
            " [ 8 10 20 19  5]\n",
            " [ 7 13  2  7  8]]\n",
            "Shape of the array: (3, 5)\n",
            "Modified Array (max in each row replaced with 0):\n",
            " [[13  0  1  4  4]\n",
            " [ 8 10  0 19  5]\n",
            " [ 7  0  2  7  8]]\n"
          ]
        }
      ],
      "source": [
        " # 1.a. NumPy Random Vector\n",
        "import numpy as np\n",
        "\n",
        "np.random.seed(0)  # For reproducibility\n",
        "arr = np.random.randint(1, 21, 15)\n",
        "print(\"Original Array:\\n\", arr)\n",
        "\n",
        "reshaped_arr = arr.reshape(3, 5)\n",
        "print(\"Reshaped Array (3x5):\\n\", reshaped_arr)\n",
        "\n",
        "print(\"Shape of the array:\", reshaped_arr.shape)\n",
        "\n",
        "# Replace max in each row with 0\n",
        "for i in range(reshaped_arr.shape[0]):\n",
        "    max_index = reshaped_arr[i].argmax()\n",
        "    reshaped_arr[i][max_index] = 0\n",
        "\n",
        "print(\"Modified Array (max in each row replaced with 0):\\n\", reshaped_arr)\n",
        "\n"
      ]
    },
    {
      "cell_type": "code",
      "source": [
        "# 1.b. 2D Array with 4-byte Integers\n",
        "array_4x3 = np.array([[10, 20, 30],\n",
        "                      [40, 50, 60],\n",
        "                      [70, 80, 90],\n",
        "                      [100, 110, 120]], dtype=np.int32)\n",
        "\n",
        "print(\"Array:\\n\", array_4x3)\n",
        "print(\"Shape:\", array_4x3.shape)\n",
        "print(\"Type:\", type(array_4x3))\n",
        "print(\"Data Type:\", array_4x3.dtype)\n"
      ],
      "metadata": {
        "colab": {
          "base_uri": "https://localhost:8080/"
        },
        "id": "oDUKQujI4FrK",
        "outputId": "09c77947-49e5-4ecd-e62e-ec0c6adec019"
      },
      "execution_count": 3,
      "outputs": [
        {
          "output_type": "stream",
          "name": "stdout",
          "text": [
            "Array:\n",
            " [[ 10  20  30]\n",
            " [ 40  50  60]\n",
            " [ 70  80  90]\n",
            " [100 110 120]]\n",
            "Shape: (4, 3)\n",
            "Type: <class 'numpy.ndarray'>\n",
            "Data Type: int32\n"
          ]
        }
      ]
    },
    {
      "cell_type": "code",
      "source": [
        "#  1.c. Eigenvalues and Right Eigenvectors\n",
        "matrix = np.array([[3, -2],\n",
        "                   [1,  0]])\n",
        "\n",
        "eigenvalues, eigenvectors = np.linalg.eig(matrix)\n",
        "\n",
        "print(\"Eigenvalues:\\n\", eigenvalues)\n",
        "print(\"Right Eigenvectors:\\n\", eigenvectors)\n"
      ],
      "metadata": {
        "colab": {
          "base_uri": "https://localhost:8080/"
        },
        "id": "6gRVDizO4cyg",
        "outputId": "375f4919-cf64-48ad-a6b3-ed3faa0487e1"
      },
      "execution_count": 5,
      "outputs": [
        {
          "output_type": "stream",
          "name": "stdout",
          "text": [
            "Eigenvalues:\n",
            " [2. 1.]\n",
            "Right Eigenvectors:\n",
            " [[0.89442719 0.70710678]\n",
            " [0.4472136  0.70710678]]\n"
          ]
        }
      ]
    },
    {
      "cell_type": "code",
      "source": [
        "#  1.d. Sum of Diagonal Elements\n",
        "matrix = np.array([[0, 1, 2],\n",
        "                   [3, 4, 5]])\n",
        "\n",
        "diagonal_sum = np.trace(matrix)\n",
        "print(\"Sum of diagonal elements:\", diagonal_sum)\n"
      ],
      "metadata": {
        "colab": {
          "base_uri": "https://localhost:8080/"
        },
        "id": "f8JfyNph4mmC",
        "outputId": "bff4410d-3343-463c-d835-6ce32709e9b6"
      },
      "execution_count": 6,
      "outputs": [
        {
          "output_type": "stream",
          "name": "stdout",
          "text": [
            "Sum of diagonal elements: 4\n"
          ]
        }
      ]
    },
    {
      "cell_type": "code",
      "source": [
        "# 1.e. Reshape Array without Changing Data\n",
        "original_arr = np.array([[1, 2],\n",
        "                         [3, 4],\n",
        "                         [5, 6]])\n",
        "\n",
        "reshaped_arr = original_arr.reshape(2, 3)\n",
        "print(\"Reshaped Array (2x3):\\n\", reshaped_arr)\n"
      ],
      "metadata": {
        "colab": {
          "base_uri": "https://localhost:8080/"
        },
        "id": "lUOgAtlo4tdY",
        "outputId": "42c6aade-5d68-43df-ba47-e445e9e7d26e"
      },
      "execution_count": 7,
      "outputs": [
        {
          "output_type": "stream",
          "name": "stdout",
          "text": [
            "Reshaped Array (2x3):\n",
            " [[1 2 3]\n",
            " [4 5 6]]\n"
          ]
        }
      ]
    }
  ]
}