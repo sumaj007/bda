{
  "nbformat": 4,
  "nbformat_minor": 0,
  "metadata": {
    "colab": {
      "provenance": []
    },
    "kernelspec": {
      "name": "python3",
      "display_name": "Python 3"
    },
    "language_info": {
      "name": "python"
    }
  },
  "cells": [
    {
      "cell_type": "code",
      "execution_count": 6,
      "metadata": {
        "colab": {
          "base_uri": "https://localhost:8080/"
        },
        "id": "l668IA7gkgZb",
        "outputId": "384fa413-1d6e-4f5f-a3a3-f72fed2a010d"
      },
      "outputs": [
        {
          "output_type": "stream",
          "name": "stdout",
          "text": [
            "Enter the string: python\n",
            "Result: nohy\n"
          ]
        }
      ],
      "source": [
        "chars = list(input(\"Enter the string: \"))  # Example: Python\n",
        "del chars[0]  # Delete 'y'\n",
        "del chars[1]  # Delete 'h'\n",
        "reversed_str = ''.join(reversed(chars))\n",
        "print(\"Result:\", reversed_str)"
      ]
    },
    {
      "cell_type": "code",
      "source": [
        "a = int(input(\"Enter first number: \"))\n",
        "b = int(input(\"Enter second number: \"))\n",
        "\n",
        "print(\"Addition:\", a + b)\n",
        "print(\"Subtraction:\", a - b)\n",
        "print(\"Multiplication:\", a * b)\n",
        "print(\"Division:\", a / b)\n"
      ],
      "metadata": {
        "colab": {
          "base_uri": "https://localhost:8080/"
        },
        "id": "f4fTkka0n_ev",
        "outputId": "fca66e09-beda-4859-f40f-66b79bcb896d"
      },
      "execution_count": 7,
      "outputs": [
        {
          "output_type": "stream",
          "name": "stdout",
          "text": [
            "Enter first number: 2\n",
            "Enter second number: 8\n",
            "Addition: 10\n",
            "Subtraction: -6\n",
            "Multiplication: 16\n",
            "Division: 0.25\n"
          ]
        }
      ]
    },
    {
      "cell_type": "code",
      "source": [
        "sentence = input(\"Enter a sentence: \")\n",
        "modified = sentence.replace('python', 'pythons')\n",
        "print(\"Modified sentence:\", modified)\n"
      ],
      "metadata": {
        "colab": {
          "base_uri": "https://localhost:8080/"
        },
        "id": "pi2R3v5-oMCo",
        "outputId": "a3c57c3f-24ec-440d-bea3-c29812edb9ef"
      },
      "execution_count": 9,
      "outputs": [
        {
          "output_type": "stream",
          "name": "stdout",
          "text": [
            "Enter a sentence: python is a versatile, high-level programming language\n",
            "Modified sentence: pythons is a versatile, high-level programming language\n"
          ]
        }
      ]
    },
    {
      "cell_type": "code",
      "source": [
        "score = int(input(\"Enter your class score: \"))\n",
        "\n",
        "if score >= 90:\n",
        "    grade = 'A'\n",
        "elif score >= 80:\n",
        "    grade = 'B'\n",
        "elif score >= 70:\n",
        "    grade = 'C'\n",
        "elif score >= 60:\n",
        "    grade = 'D'\n",
        "else:\n",
        "    grade = 'F'\n",
        "\n",
        "print(\"Grade:\", grade)\n"
      ],
      "metadata": {
        "colab": {
          "base_uri": "https://localhost:8080/"
        },
        "id": "NTtLGsJso3kX",
        "outputId": "d9247b8f-a44c-405c-fba9-de4944d81d64"
      },
      "execution_count": 10,
      "outputs": [
        {
          "output_type": "stream",
          "name": "stdout",
          "text": [
            "Enter your class score: 84\n",
            "Grade: B\n"
          ]
        }
      ]
    },
    {
      "cell_type": "code",
      "source": [
        "x = [23, 'Python', 23.98]\n",
        "types = [type(i) for i in x]\n",
        "\n",
        "print(x)\n",
        "print(types)\n"
      ],
      "metadata": {
        "colab": {
          "base_uri": "https://localhost:8080/"
        },
        "id": "9mhKcjPTpDGD",
        "outputId": "3c5108ac-5563-464c-9062-479f849deeac"
      },
      "execution_count": 11,
      "outputs": [
        {
          "output_type": "stream",
          "name": "stdout",
          "text": [
            "[23, 'Python', 23.98]\n",
            "[<class 'int'>, <class 'str'>, <class 'float'>]\n"
          ]
        }
      ]
    },
    {
      "cell_type": "code",
      "source": [
        "IT_companies = {'Facebook', 'Google', 'Microsoft', 'Apple', 'IBM', 'Oracle', 'Amazon'}\n",
        "A = {19, 22, 24, 20, 25, 26}\n",
        "B = {19, 22, 20, 25, 26, 24, 28, 27}\n",
        "age = [22, 19, 24, 25, 26, 24, 25, 24]\n",
        "\n",
        "# Length\n",
        "print(\"Length:\", len(IT_companies))\n",
        "\n",
        "# Add\n",
        "IT_companies.add('Twitter')\n",
        "print(\"After adding Twitter:\", IT_companies)\n",
        "\n",
        "# Insert multiple\n",
        "IT_companies.update(['TCS', 'Infosys'])\n",
        "print(\"After multiple insertions:\", IT_companies)\n",
        "\n",
        "# Remove one\n",
        "IT_companies.remove('IBM')\n",
        "print(\"After removing IBM:\", IT_companies)\n",
        "\n",
        "# Remove vs Discard\n",
        "print(\"Remove() throws error if item not found. Discard() does not.\")\n",
        "\n",
        "# Join A and B\n",
        "print(\"A union B:\", A.union(B))\n",
        "\n",
        "# Intersection\n",
        "print(\"A ∩ B:\", A.intersection(B))\n",
        "\n",
        "# A subset B?\n",
        "print(\"Is A subset of B?\", A.issubset(B))\n",
        "\n",
        "# Disjoint?\n",
        "print(\"Are A and B disjoint?\", A.isdisjoint(B))\n",
        "\n",
        "# Join A with B and B with A\n",
        "print(\"A | B:\", A | B)\n",
        "print(\"B | A:\", B | A)\n",
        "\n",
        "# Symmetric difference\n",
        "print(\"Symmetric difference:\", A.symmetric_difference(B))\n",
        "\n",
        "# Delete sets\n",
        "del A\n",
        "del B\n",
        "\n",
        "# Convert age list to set\n",
        "age_set = set(age)\n",
        "print(\"Length of list:\", len(age))\n",
        "print(\"Length of set:\", len(age_set))\n"
      ],
      "metadata": {
        "colab": {
          "base_uri": "https://localhost:8080/"
        },
        "id": "6L-j_uf4phED",
        "outputId": "b33d3cc3-262b-43f7-faeb-e81d7cbeaaff"
      },
      "execution_count": 12,
      "outputs": [
        {
          "output_type": "stream",
          "name": "stdout",
          "text": [
            "Length: 7\n",
            "After adding Twitter: {'IBM', 'Facebook', 'Oracle', 'Microsoft', 'Twitter', 'Apple', 'Google', 'Amazon'}\n",
            "After multiple insertions: {'Twitter', 'Infosys', 'Apple', 'IBM', 'Facebook', 'Oracle', 'TCS', 'Google', 'Amazon', 'Microsoft'}\n",
            "After removing IBM: {'Twitter', 'Infosys', 'Apple', 'Facebook', 'Oracle', 'TCS', 'Google', 'Amazon', 'Microsoft'}\n",
            "Remove() throws error if item not found. Discard() does not.\n",
            "A union B: {19, 20, 22, 24, 25, 26, 27, 28}\n",
            "A ∩ B: {19, 20, 22, 24, 25, 26}\n",
            "Is A subset of B? True\n",
            "Are A and B disjoint? False\n",
            "A | B: {19, 20, 22, 24, 25, 26, 27, 28}\n",
            "B | A: {19, 20, 22, 24, 25, 26, 27, 28}\n",
            "Symmetric difference: {27, 28}\n",
            "Length of list: 8\n",
            "Length of set: 5\n"
          ]
        }
      ]
    }
  ]
}